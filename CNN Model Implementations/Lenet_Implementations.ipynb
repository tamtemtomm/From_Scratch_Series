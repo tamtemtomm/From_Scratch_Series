{
  "nbformat": 4,
  "nbformat_minor": 0,
  "metadata": {
    "colab": {
      "provenance": []
    },
    "kernelspec": {
      "name": "python3",
      "display_name": "Python 3"
    },
    "language_info": {
      "name": "python"
    }
  },
  "cells": [
    {
      "cell_type": "code",
      "source": [
        "# @title <p>Essential Import\n",
        "import os, shutil, json\n",
        "from PIL import Image\n",
        "from zipfile import ZipFile\n",
        "import matplotlib.pyplot as plt\n",
        "import numpy as np, pandas as pd, random as rd\n",
        "import warnings\n",
        "warnings.filterwarnings(\"ignore\")"
      ],
      "metadata": {
        "id": "XPGGABUbQ0vA"
      },
      "execution_count": null,
      "outputs": []
    },
    {
      "cell_type": "code",
      "source": [
        "# @title <p>Torch Essential Import\n",
        "import torch\n",
        "import torchvision\n",
        "import torch.nn as nn\n",
        "import torch.nn.functional as F\n",
        "import torchvision.transforms as T\n",
        "from torch.utils.data import Dataset, DataLoader\n",
        "from torchvision.datasets import ImageFolder\n",
        "torch.manual_seed(0)\n",
        "device = torch.device('cuda' if torch.cuda.is_available() else 'cpu')"
      ],
      "metadata": {
        "id": "7iLcw975QxwW"
      },
      "execution_count": null,
      "outputs": []
    },
    {
      "cell_type": "code",
      "source": [
        "class ConvBlock(nn.Module):\n",
        "  def __init__ (self, in_ch, out_ch, use_pool=True):\n",
        "    super().__init__()\n",
        "    self.use_pool = use_pool\n",
        "    self.conv = nn.Conv2d(in_ch, out_ch, kernel_size=5, stride=1, padding=0)\n",
        "    self.relu = nn.ReLU()\n",
        "    if self.use_pool:\n",
        "      self.pool = nn.AvgPool2d(kernel_size=2, stride=2)\n",
        "\n",
        "  def forward(self, x):\n",
        "    x = self.relu(self.conv(x))\n",
        "    if self.use_pool:\n",
        "      x = self.pool(x)\n",
        "    return x\n",
        "\n",
        "class LeNet(nn.Module):\n",
        "  def __init__(self, in_ch=3, out_ch=1000):\n",
        "    super().__init__()\n",
        "    self.out_ch = out_ch\n",
        "    self.conv = nn.Sequential(\n",
        "        ConvBlock(in_ch, 6),\n",
        "        ConvBlock(6, 16),\n",
        "        ConvBlock(16, 120, use_pool=False)\n",
        "    )\n",
        "\n",
        "    self.flatten = nn.Flatten()\n",
        "\n",
        "  def forward(self, x):\n",
        "    x = self.conv(x)\n",
        "    x = self.flatten(x)\n",
        "\n",
        "    input_ch = x.shape[-1]\n",
        "\n",
        "    self.linear = nn.Sequential(\n",
        "        nn.Linear(input_ch, 1024),\n",
        "        nn.ReLU(),\n",
        "        nn.Linear(1024, self.out_ch)\n",
        "    )\n",
        "\n",
        "    x = self.linear(x)\n",
        "\n",
        "    return x"
      ],
      "metadata": {
        "id": "EX8XhMx_Q2UK"
      },
      "execution_count": null,
      "outputs": []
    },
    {
      "cell_type": "code",
      "source": [
        "x = torch.randn(1, 3, 224, 224)\n",
        "model = LeNet()\n",
        "out = model(x)\n",
        "out.shape"
      ],
      "metadata": {
        "colab": {
          "base_uri": "https://localhost:8080/"
        },
        "id": "cjnn0n4UT1WN",
        "outputId": "2539b114-c07c-430e-9b48-47ef1eebf102"
      },
      "execution_count": null,
      "outputs": [
        {
          "output_type": "execute_result",
          "data": {
            "text/plain": [
              "torch.Size([1, 1000])"
            ]
          },
          "metadata": {},
          "execution_count": 4
        }
      ]
    }
  ]
}