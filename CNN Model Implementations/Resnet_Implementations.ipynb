{
  "nbformat": 4,
  "nbformat_minor": 0,
  "metadata": {
    "colab": {
      "provenance": []
    },
    "kernelspec": {
      "name": "python3",
      "display_name": "Python 3"
    },
    "language_info": {
      "name": "python"
    }
  },
  "cells": [
    {
      "cell_type": "code",
      "source": [
        "# @title <p>Essential Import\n",
        "import os, shutil, json\n",
        "from PIL import Image\n",
        "from zipfile import ZipFile\n",
        "import matplotlib.pyplot as plt\n",
        "import numpy as np, pandas as pd, random as rd\n",
        "import warnings\n",
        "warnings.filterwarnings(\"ignore\")"
      ],
      "metadata": {
        "id": "LtxtkW3ojRce"
      },
      "execution_count": null,
      "outputs": []
    },
    {
      "cell_type": "code",
      "source": [
        "# @title <p>Torch Essential Import\n",
        "import torch\n",
        "import torchvision\n",
        "import torch.nn as nn\n",
        "import torch.nn.functional as F\n",
        "import torchvision.transforms as T\n",
        "from torch.utils.data import Dataset, DataLoader\n",
        "from torchvision.datasets import ImageFolder\n",
        "torch.manual_seed(0)\n",
        "device = torch.device('cuda' if torch.cuda.is_available() else 'cpu')"
      ],
      "metadata": {
        "id": "oK01xsXXjQXa"
      },
      "execution_count": null,
      "outputs": []
    },
    {
      "cell_type": "code",
      "source": [
        "class ResnetBlock(nn.Module):\n",
        "  def __init__(self, in_ch, inter_ch, identity_downsample=None, stride=1):\n",
        "    super().__init__()\n",
        "    self.conv1 = nn.Conv2d(in_ch, inter_ch, kernel_size=1, stride=1, padding=0, bias=False)\n",
        "    self.bn1 = nn.BatchNorm2d(inter_ch)\n",
        "    self.conv2 = nn.Conv2d(inter_ch, inter_ch, kernel_size=3, stride=stride, padding=1, bias=False)\n",
        "    self.conv3 = nn.Conv2d(inter_ch, inter_ch*4, kernel_size=1, stride=1, padding=0, bias=False)\n",
        "    self.bn2 = nn.BatchNorm2d(inter_ch*4)\n",
        "    self.relu = nn.ReLU()\n",
        "    self.identity_downsample = identity_downsample\n",
        "\n",
        "  def forward(self, x):\n",
        "    identity = x.clone()\n",
        "\n",
        "    x = self.conv1(x)\n",
        "    x = self.bn1(x)\n",
        "    x = self.relu(x)\n",
        "    x = self.conv2(x)\n",
        "    x = self.bn1(x)\n",
        "    x = self.relu(x)\n",
        "    x = self.conv3(x)\n",
        "    x = self.bn2(x)\n",
        "\n",
        "    if self.identity_downsample is not None:\n",
        "      identity = self.identity_downsample(identity)\n",
        "\n",
        "    x += identity\n",
        "    x = self.relu(x)\n",
        "\n",
        "    return x\n",
        "\n",
        "class ResnetModel(nn.Module):\n",
        "  def __init__(self, model_type=\"ResNet50\", image_channel=3, num_classes=1000):\n",
        "    super().__init__()\n",
        "    self.in_ch = 64\n",
        "    self.conv1 = nn.Conv2d(image_channel, 64, kernel_size=7, stride=2, padding=3, bias=False)\n",
        "    self.bn = nn.BatchNorm2d(64)\n",
        "    self.relu = nn.ReLU()\n",
        "    self.maxpool = nn.MaxPool2d(kernel_size=3, stride=2, padding=1)\n",
        "\n",
        "    if model_type == \"ResNet50\":\n",
        "      self.config = [3, 4, 6, 3]\n",
        "\n",
        "    elif model_type == \"ResNet101\":\n",
        "      self.config = [3, 4, 23, 3]\n",
        "\n",
        "    elif model_type == \"ResNet152\":\n",
        "      self.config = [3, 8, 36, 3]\n",
        "\n",
        "    self.layer1 = self.make_resnet_block(self.config[0], inter_ch=64, stride=1)\n",
        "    self.layer2 = self.make_resnet_block(self.config[1], inter_ch=128, stride=2)\n",
        "    self.layer3 = self.make_resnet_block(self.config[2], inter_ch=256, stride=2)\n",
        "    self.layer4 = self.make_resnet_block(self.config[3], inter_ch=512, stride=2)\n",
        "\n",
        "    self.avgpool = nn.AdaptiveAvgPool2d((1, 1))\n",
        "    self.fc = nn.Linear(512 * 4, num_classes)\n",
        "\n",
        "  def make_resnet_block(self, num_block, inter_ch, stride):\n",
        "    identity_downsample = None\n",
        "    layers = []\n",
        "\n",
        "    if stride != 1 or self.in_ch != inter_ch * 4:\n",
        "      identity_downsample = nn.Sequential(\n",
        "          nn.Conv2d(self.in_ch, inter_ch*4, kernel_size=1, stride=stride, bias=False),\n",
        "          nn.BatchNorm2d(inter_ch*4)\n",
        "      )\n",
        "\n",
        "    layers.append(ResnetBlock(self.in_ch, inter_ch, identity_downsample, stride))\n",
        "\n",
        "    self.in_ch = inter_ch*4\n",
        "\n",
        "    for i in range(num_block-1):\n",
        "      layers.append(ResnetBlock(self.in_ch, inter_ch))\n",
        "\n",
        "    return nn.Sequential(*layers)\n",
        "\n",
        "  def forward(self, x):\n",
        "\n",
        "    x = self.conv1(x)\n",
        "    x = self.bn(x)\n",
        "    x = self.relu(x)\n",
        "    x = self.maxpool(x)\n",
        "\n",
        "    x = self.layer1(x)\n",
        "    x = self.layer2(x)\n",
        "    x = self.layer3(x)\n",
        "    x = self.layer4(x)\n",
        "\n",
        "    x = self.avgpool(x)\n",
        "    x = x.reshape(x.shape[0], -1)\n",
        "    x = self.fc(x)\n",
        "\n",
        "    return x"
      ],
      "metadata": {
        "colab": {
          "base_uri": "https://localhost:8080/"
        },
        "id": "EbINGYCwjTeR",
        "outputId": "9d85da29-0f34-4c2c-a435-a9a0957811d8"
      },
      "execution_count": null,
      "outputs": [
        {
          "output_type": "execute_result",
          "data": {
            "text/plain": [
              "torch.Size([1, 1000])"
            ]
          },
          "metadata": {},
          "execution_count": 13
        }
      ]
    }
  ]
}