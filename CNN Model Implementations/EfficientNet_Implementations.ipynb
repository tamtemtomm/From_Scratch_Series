{
  "nbformat": 4,
  "nbformat_minor": 0,
  "metadata": {
    "colab": {
      "provenance": []
    },
    "kernelspec": {
      "name": "python3",
      "display_name": "Python 3"
    },
    "language_info": {
      "name": "python"
    }
  },
  "cells": [
    {
      "cell_type": "code",
      "source": [
        "# @title <p>Essential Import\n",
        "import os, shutil, json\n",
        "from PIL import Image\n",
        "from zipfile import ZipFile\n",
        "import matplotlib.pyplot as plt\n",
        "import numpy as np, pandas as pd, random as rd\n",
        "import warnings\n",
        "warnings.filterwarnings(\"ignore\")"
      ],
      "metadata": {
        "id": "W0mO9JVR3jem"
      },
      "execution_count": null,
      "outputs": []
    },
    {
      "cell_type": "code",
      "source": [
        "# @title <p>Torch Essential Import\n",
        "import torch\n",
        "import torchvision\n",
        "import torch.nn as nn\n",
        "import torch.nn.functional as F\n",
        "import torchvision.transforms as T\n",
        "from torch.utils.data import Dataset, DataLoader\n",
        "from torchvision.datasets import ImageFolder\n",
        "torch.manual_seed(0)\n",
        "device = torch.device('cuda' if torch.cuda.is_available() else 'cpu')\n",
        "\n",
        "from math import ceil"
      ],
      "metadata": {
        "id": "yNCDUXc_3lRz"
      },
      "execution_count": null,
      "outputs": []
    },
    {
      "cell_type": "code",
      "source": [
        "base_model = [\n",
        "    # expand_ratio, channels, repeats, stride, kernel_size\n",
        "    [1, 16, 1, 1, 3],\n",
        "    [6, 24, 2, 2, 3],\n",
        "    [6, 40, 2, 2, 5],\n",
        "    [6, 80, 3, 2, 3],\n",
        "    [6, 112, 3, 1, 5],\n",
        "    [6, 192, 4, 2, 5],\n",
        "    [6, 320, 1, 1, 3],\n",
        "]\n",
        "\n",
        "phi_values = {\n",
        "    # tuple of: (phi_value, resolution, drop_rate)\n",
        "    \"b0\": (0, 224, 0.2),  # alpha, beta, gamma, depth = alpha ** phi\n",
        "    \"b1\": (0.5, 240, 0.2),\n",
        "    \"b2\": (1, 260, 0.3),\n",
        "    \"b3\": (2, 300, 0.3),\n",
        "    \"b4\": (3, 380, 0.4),\n",
        "    \"b5\": (4, 456, 0.4),\n",
        "    \"b6\": (5, 528, 0.5),\n",
        "    \"b7\": (6, 600, 0.5),\n",
        "}"
      ],
      "metadata": {
        "id": "GNH2z94HA70I"
      },
      "execution_count": null,
      "outputs": []
    },
    {
      "cell_type": "code",
      "source": [
        "class ConvBlock(nn.Module):\n",
        "    def __init__(self, in_ch, out_ch, kernel_size, stride, padding, groups=1):\n",
        "        super().__init__()\n",
        "        self.conv = nn.Conv2d(in_ch, out_ch, kernel_size, stride, padding, groups=groups, bias=False)\n",
        "        self.silu = nn.SiLU()\n",
        "        self.bn = nn.BatchNorm2d(out_ch)\n",
        "\n",
        "    def forward(self, x):\n",
        "        return self.silu(self.bn(self.conv(x)))\n",
        "\n",
        "class SqueezeExcitation(nn.Module):\n",
        "    def __init__(self, in_ch, red_dim):\n",
        "        super().__init__()\n",
        "\n",
        "        self.se = nn.Sequential(\n",
        "            nn.AdaptiveAvgPool2d(1),\n",
        "            nn.Conv2d(in_ch, red_dim, 1),\n",
        "            nn.SiLU(),\n",
        "            nn.Conv2d(red_dim, in_ch, 1),\n",
        "            nn.Sigmoid()\n",
        "        )\n",
        "\n",
        "    def forward(self, x):\n",
        "        return x * self.se(x)\n",
        "\n",
        "class InvertedResidual(nn.Module):\n",
        "    def __init__(\n",
        "        self,\n",
        "        in_ch,\n",
        "        out_ch,\n",
        "        kernel_size,\n",
        "        stride,\n",
        "        padding,\n",
        "        expand_ratio,\n",
        "        reduction=4,\n",
        "        survival_prob=0.8\n",
        "    ):\n",
        "        super().__init__()\n",
        "\n",
        "        self.survival_prob = survival_prob\n",
        "        self.use_residual = in_ch == out_ch and stride == 1\n",
        "        hid_dim = in_ch * expand_ratio\n",
        "        self.expand = in_ch != hid_dim\n",
        "        red_dim = int(in_ch / reduction)\n",
        "\n",
        "        if self.expand:\n",
        "            self.expand_conv = ConvBlock(in_ch, hid_dim, kernel_size=3, stride=1, padding=1)\n",
        "\n",
        "        self.conv = nn.Sequential(\n",
        "            ConvBlock(hid_dim, hid_dim, kernel_size, stride, padding, groups=hid_dim),\n",
        "            SqueezeExcitation(hid_dim, red_dim),\n",
        "            nn.Conv2d(hid_dim, out_ch, 1, bias=False),\n",
        "            nn.BatchNorm2d(out_ch)\n",
        "        )\n",
        "\n",
        "    def stochastic_depth(self, x):\n",
        "        if not self.training:\n",
        "            return x\n",
        "\n",
        "        binary_tensor = (torch.rand(x.shape[0], 1, 1, 1, device=x.device) < self.survival_prob)\n",
        "        return torch.div(x, self.survival_prob) * binary_tensor\n",
        "\n",
        "    def forward(self, inputs):\n",
        "        x = self.expand_conv(inputs) if self.expand else inputs\n",
        "        if self.use_residual:\n",
        "            return self.stochastic_depth(self.conv(x)) + inputs\n",
        "        else:\n",
        "            return self.conv(x)\n",
        "\n",
        "class EfficientNet(nn.Module):\n",
        "    def __init__(self, ver, num_classes):\n",
        "        super().__init__()\n",
        "        width_factor, depth_factor, dropout_rate = self.calculate_factors(ver)\n",
        "        last_ch = int(1280 * width_factor)\n",
        "        self.pool = nn.AdaptiveAvgPool2d(1)\n",
        "        self.features = self.create_features(width_factor, depth_factor, last_ch)\n",
        "        self.linear = nn.Sequential(\n",
        "            nn.Dropout(dropout_rate),\n",
        "            nn.Linear(last_ch, num_classes)\n",
        "        )\n",
        "\n",
        "    def calculate_factors(self, ver, alpha=1.2, beta=1.1):\n",
        "        phi, res, drop_rate = phi_values[ver]\n",
        "        depth_factor = alpha ** phi\n",
        "        width_factor = beta ** phi\n",
        "        return width_factor, depth_factor, drop_rate\n",
        "\n",
        "    def create_features(self, width_factor, depth_factor, last_ch):\n",
        "        channels = int(32 * width_factor)\n",
        "        features = [ConvBlock(3, channels, 3, stride=2, padding=1)]\n",
        "        in_ch = channels\n",
        "\n",
        "        for expand_ratio, channels, repeats, stride, kernel_size in base_model:\n",
        "            out_ch = int(4 * ceil(channels * width_factor / 4))\n",
        "            layers_repeats = int(ceil(repeats * depth_factor))\n",
        "\n",
        "            for layer in range(layers_repeats):\n",
        "                features.append(\n",
        "                    InvertedResidual(\n",
        "                        in_ch,\n",
        "                        out_ch,\n",
        "                        expand_ratio=expand_ratio,\n",
        "                        stride=stride if layer == 0 else 1,\n",
        "                        kernel_size=kernel_size,\n",
        "                        padding=kernel_size // 2\n",
        "                    )\n",
        "                )\n",
        "                in_ch = out_ch\n",
        "\n",
        "        features.append(\n",
        "            ConvBlock(in_ch, last_ch, kernel_size=1, stride=1, padding=0)\n",
        "        )\n",
        "\n",
        "        return nn.Sequential(*features)\n",
        "\n",
        "    def forward(self, x):\n",
        "        x = self.pool(self.features(x))\n",
        "        return self.linear(x.view(x.shape[0], -1))"
      ],
      "metadata": {
        "id": "ueCzLmLEoME7"
      },
      "execution_count": null,
      "outputs": []
    },
    {
      "cell_type": "code",
      "source": [
        "model = EfficientNet(\"b0\", 1000)\n",
        "x = torch.randn(1, 3, 224, 224)\n",
        "out = model(x)\n",
        "out.shape"
      ],
      "metadata": {
        "colab": {
          "base_uri": "https://localhost:8080/"
        },
        "id": "6M7O1BRzmHie",
        "outputId": "44f8a630-1caf-4584-de50-439ad50c6a95"
      },
      "execution_count": null,
      "outputs": [
        {
          "output_type": "execute_result",
          "data": {
            "text/plain": [
              "torch.Size([1, 1000])"
            ]
          },
          "metadata": {},
          "execution_count": 44
        }
      ]
    }
  ]
}