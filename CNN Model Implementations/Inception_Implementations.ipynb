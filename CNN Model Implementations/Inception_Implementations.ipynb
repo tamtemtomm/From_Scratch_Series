{
  "nbformat": 4,
  "nbformat_minor": 0,
  "metadata": {
    "colab": {
      "provenance": []
    },
    "kernelspec": {
      "name": "python3",
      "display_name": "Python 3"
    },
    "language_info": {
      "name": "python"
    }
  },
  "cells": [
    {
      "cell_type": "code",
      "source": [
        "# @title <p>Essential Import\n",
        "import os, shutil, json\n",
        "from PIL import Image\n",
        "from zipfile import ZipFile\n",
        "import matplotlib.pyplot as plt\n",
        "import numpy as np, pandas as pd, random as rd\n",
        "import warnings\n",
        "warnings.filterwarnings(\"ignore\")"
      ],
      "metadata": {
        "id": "hdHwiIhTDUke"
      },
      "execution_count": null,
      "outputs": []
    },
    {
      "cell_type": "code",
      "source": [
        "# @title <p>Torch Essential Import\n",
        "import torch\n",
        "import torch.nn as nn\n",
        "import torch.nn.functional as F\n",
        "import torchvision.transforms as T\n",
        "from torch.utils.data import Dataset, DataLoader\n",
        "from torchvision.datasets import ImageFolder\n",
        "torch.manual_seed(0)\n",
        "device = torch.device('cuda' if torch.cuda.is_available() else 'cpu')"
      ],
      "metadata": {
        "id": "dkZwdlOMDUs5"
      },
      "execution_count": null,
      "outputs": []
    },
    {
      "cell_type": "code",
      "source": [
        "# @title <p> Model Architecture\n",
        "class ConvBlock(nn.Module):\n",
        "  def __init__(self, in_ch, out_ch, **kwargs):\n",
        "    super().__init__()\n",
        "    self.conv = nn.Conv2d(in_ch, out_ch, **kwargs)\n",
        "    self.bn = nn.BatchNorm2d(out_ch)\n",
        "    self.relu = nn.ReLU()\n",
        "\n",
        "  def forward(self, x):\n",
        "    x = self.conv(x)\n",
        "    x = self.bn(x)\n",
        "    x = self.relu(x)\n",
        "    return x\n",
        "\n",
        "class InceptionBlock(nn.Module):\n",
        "  def __init__(self, in_ch, out1x1, red3x3, out3x3, red5x5, out5x5, maxpool1x1):\n",
        "    super().__init__()\n",
        "    self.branch1 = ConvBlock(in_ch, out1x1, kernel_size = (1, 1))\n",
        "    self.branch2 = nn.Sequential(\n",
        "        ConvBlock(in_ch, red3x3, kernel_size=1),\n",
        "        ConvBlock(red3x3, out3x3, kernel_size=(3, 3), padding=1),\n",
        "    )\n",
        "    self.branch3 = nn.Sequential(\n",
        "        ConvBlock(in_ch, red5x5, kernel_size=1),\n",
        "        ConvBlock(red5x5, out5x5, kernel_size = (5, 5), padding=2)\n",
        "    )\n",
        "    self.branch4 = nn.Sequential(\n",
        "        nn.MaxPool2d(kernel_size = (3, 3), padding=1, stride=1),\n",
        "        ConvBlock(in_ch, maxpool1x1, kernel_size= (1, 1))\n",
        "    )\n",
        "\n",
        "  def forward(self, x):\n",
        "    return torch.cat(\n",
        "            [self.branch1(x), self.branch2(x), self.branch3(x), self.branch4(x)], 1\n",
        "        )\n",
        "\n",
        "class InceptionAux(nn.Module):\n",
        "    def __init__(self, in_ch, num_classes):\n",
        "        super().__init__()\n",
        "        self.relu = nn.ReLU()\n",
        "        self.dropout = nn.Dropout(0.7)\n",
        "        self.pool = nn.AvgPool2d(kernel_size=5, stride=3)\n",
        "        self.conv = ConvBlock(in_ch, 128, kernel_size=(1,1))\n",
        "        self.fc1 = nn.Linear(2048, 1024)\n",
        "        self.fc2 = nn.Linear(1024, num_classes)\n",
        "\n",
        "    def forward(self, x):\n",
        "        x = self.pool(x)\n",
        "        x = self.conv(x)\n",
        "        x = x.reshape(x.shape[0], -1)\n",
        "        x = self.relu(self.fc1(x))\n",
        "        x = self.dropout(x)\n",
        "        x = self.fc2(x)\n",
        "        return x\n",
        "\n",
        "class InceptionModel(nn.Module):\n",
        "  def __init__(self, aux_logits=True, num_classes=1000):\n",
        "    super().__init__()\n",
        "    self.aux_logits = aux_logits\n",
        "    self.maxpool = nn.MaxPool2d(kernel_size=(3,3), stride=2, padding=1)\n",
        "\n",
        "    self.conv1 = ConvBlock(3, 64, kernel_size = (7,7), stride=2, padding=3)\n",
        "    self.conv2 = ConvBlock(64, 192, kernel_size = (3,3), stride=1, padding=1)\n",
        "\n",
        "    self.inception3a = InceptionBlock(192, 64, 96, 128, 16, 32, 32)\n",
        "    self.inception3b = InceptionBlock(256, 128, 128, 192, 32, 96, 64)\n",
        "\n",
        "    self.inception4a = InceptionBlock(480, 192, 96, 208, 16, 48, 64)\n",
        "    self.inception4b = InceptionBlock(512, 160, 112, 224, 24, 64, 64)\n",
        "    self.inception4c = InceptionBlock(512, 128, 128, 256, 24, 64, 64)\n",
        "    self.inception4d = InceptionBlock(512, 112, 144, 288, 32, 64, 64)\n",
        "    self.inception4e = InceptionBlock(528, 256, 160, 320, 32, 128, 128)\n",
        "\n",
        "    self.inception5a = InceptionBlock(832, 256, 160, 320, 32, 128, 128)\n",
        "    self.inception5b = InceptionBlock(832, 384, 192, 384, 48, 128, 128)\n",
        "\n",
        "    self.avgpool = nn.AvgPool2d(kernel_size=7, stride=1)\n",
        "    self.dropout = nn.Dropout(p=0.4)\n",
        "    self.fc1 = nn.Linear(1024, num_classes)\n",
        "\n",
        "    if self.aux_logits:\n",
        "        self.aux1 = InceptionAux(512, num_classes)\n",
        "        self.aux2 = InceptionAux(528, num_classes)\n",
        "    else:\n",
        "        self.aux1 = self.aux2 = None\n",
        "\n",
        "  def forward(self, x):\n",
        "    x = self.conv1(x)\n",
        "    x = self.maxpool(x)\n",
        "    x = self.conv2(x)\n",
        "    x = self.maxpool(x)\n",
        "\n",
        "    x = self.inception3a(x)\n",
        "    x = self.inception3b(x)\n",
        "    x = self.maxpool(x)\n",
        "\n",
        "    x = self.inception4a(x)\n",
        "\n",
        "    if self.aux_logits and self.training:\n",
        "      aux1 = self.aux1(x)\n",
        "\n",
        "    x = self.inception4b(x)\n",
        "    x = self.inception4c(x)\n",
        "    x = self.inception4d(x)\n",
        "\n",
        "    if self.aux_logits and self.training:\n",
        "      aux2 = self.aux2(x)\n",
        "\n",
        "    x = self.inception4e(x)\n",
        "    x = self.maxpool(x)\n",
        "    x = self.inception5a(x)\n",
        "    x = self.inception5b(x)\n",
        "    x = self.avgpool(x)\n",
        "    x = x.reshape(x.shape[0], -1)\n",
        "    x = self.dropout(x)\n",
        "    x = self.fc1(x)\n",
        "\n",
        "    if self.aux_logits and self.training:\n",
        "            return aux1, aux2, x\n",
        "    else:\n",
        "        return x\n",
        "\n",
        "model = InceptionModel()\n",
        "x = torch.randn(1, 3, 224, 224)\n",
        "aux1, aux2, out = model(x)\n",
        "out.shape"
      ],
      "metadata": {
        "colab": {
          "base_uri": "https://localhost:8080/"
        },
        "id": "WbhvQxnRDWZC",
        "outputId": "2c31c4aa-674d-49aa-f0a6-8e0e9e9f5336"
      },
      "execution_count": null,
      "outputs": [
        {
          "output_type": "execute_result",
          "data": {
            "text/plain": [
              "torch.Size([1, 1000])"
            ]
          },
          "metadata": {},
          "execution_count": 62
        }
      ]
    }
  ]
}