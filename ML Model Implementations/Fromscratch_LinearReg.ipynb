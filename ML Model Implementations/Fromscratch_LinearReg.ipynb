{
  "nbformat": 4,
  "nbformat_minor": 0,
  "metadata": {
    "colab": {
      "provenance": []
    },
    "kernelspec": {
      "name": "python3",
      "display_name": "Python 3"
    },
    "language_info": {
      "name": "python"
    }
  },
  "cells": [
    {
      "cell_type": "code",
      "execution_count": null,
      "metadata": {
        "id": "RbX04-FRVE_R"
      },
      "outputs": [],
      "source": [
        "import numpy as np\n",
        "import matplotlib.pyplot as plt\n",
        "from sklearn.model_selection import train_test_split\n",
        "from sklearn import datasets"
      ]
    },
    {
      "cell_type": "code",
      "source": [
        "class LinearRegression():\n",
        "  def __init__(self, lr=1e-2, n_iters = 1e3):\n",
        "    self.lr = lr\n",
        "    self.n_iters = n_iters\n",
        "    self.weights = None\n",
        "    self.bias = None\n",
        "\n",
        "  def fit(self, X, y):\n",
        "    n_samples, n_features = X.shape\n",
        "\n",
        "    # init parameters\n",
        "    self.weights = np.random.randn(n_features)\n",
        "    self.bias = 0\n",
        "\n",
        "    #gradient descent\n",
        "    for _ in range(self.n_iters):\n",
        "      y_pred = np.dot(X, self.weights) + self.bias # (n_samples, n_features) @ (n_features) = (n_samples)\n",
        "\n",
        "      # compute gradients\n",
        "      dw = (1 / n_samples) * np.dot(X.T, (y_pred - y))\n",
        "      db = (1 / n_samples) * np.sum(y_pred - y)\n",
        "\n",
        "      # update parameters\n",
        "      self.weights -= self.lr * dw\n",
        "      self.bias -= self.lr * db\n",
        "\n",
        "  def predict(self, x):\n",
        "    return  np.dot(x, self.weights) + self.bias\n"
      ],
      "metadata": {
        "id": "tcFoBpuSVhfg"
      },
      "execution_count": null,
      "outputs": []
    },
    {
      "cell_type": "code",
      "source": [
        "def r2_score(y_test, y_pred):\n",
        "  corr_matrix = np.corrcoef(y_test, y_pred)\n",
        "  corr = corr_matrix[0, 1]\n",
        "  return corr**2\n",
        "\n",
        "def MSE(y_test, y_pred):\n",
        "  return np.mean((y_test - y_pred) ** 2)"
      ],
      "metadata": {
        "id": "4SNbPJvQYoVc"
      },
      "execution_count": null,
      "outputs": []
    },
    {
      "cell_type": "code",
      "source": [
        "X, y = datasets.make_regression(n_samples=100, n_features=1, noise=20, random_state=4)\n",
        "X_train, X_test, y_train, y_test = train_test_split(X, y, test_size = 0.2, random_state = 42)"
      ],
      "metadata": {
        "id": "h3ROjUwRZLuK"
      },
      "execution_count": null,
      "outputs": []
    },
    {
      "cell_type": "code",
      "source": [
        "regressor = LinearRegression(lr=1e-2, n_iters = 1000)\n",
        "regressor.fit(X_train, y_train)\n",
        "y_pred = regressor.predict(X_test)"
      ],
      "metadata": {
        "id": "yW8BqoSlZlJZ"
      },
      "execution_count": null,
      "outputs": []
    },
    {
      "cell_type": "code",
      "source": [
        "mse = MSE(y_test, y_pred)\n",
        "print(\"MSE:\", mse)\n",
        "\n",
        "accu = r2_score(y_test, y_pred)\n",
        "print(\"Accuracy:\", accu)\n",
        "\n",
        "y_pred_line = regressor.predict(X)\n",
        "cmap = plt.get_cmap(\"viridis\")\n",
        "fig = plt.figure(figsize=(8, 6))\n",
        "m1 = plt.scatter(X_train, y_train, color=cmap(0.9), s=10)\n",
        "m2 = plt.scatter(X_test, y_test, color=cmap(0.5), s=10)\n",
        "plt.plot(X, y_pred_line, color=\"black\", linewidth=2, label=\"Prediction\")\n",
        "plt.show()"
      ],
      "metadata": {
        "colab": {
          "base_uri": "https://localhost:8080/",
          "height": 559
        },
        "id": "5gQ-BCT2eixG",
        "outputId": "10a9f2b9-d16e-4902-ac39-784162463b64"
      },
      "execution_count": null,
      "outputs": [
        {
          "output_type": "stream",
          "name": "stdout",
          "text": [
            "MSE: 325.7195603796226\n",
            "Accuracy: 0.9291693410698004\n"
          ]
        },
        {
          "output_type": "display_data",
          "data": {
            "text/plain": [
              "<Figure size 800x600 with 1 Axes>"
            ],
            "image/png": "[encoded data removed]"
          },
          "metadata": {}
        }
      ]
    },
    {
      "cell_type": "code",
      "source": [],
      "metadata": {
        "id": "ZZilxlwDek6V"
      },
      "execution_count": null,
      "outputs": []
    }
  ]
}